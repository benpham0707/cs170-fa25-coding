{
 "cells": [
  {
   "cell_type": "markdown",
   "metadata": {
    "deletable": false,
    "editable": false
   },
   "source": [
    "## Depth First Search and Edge Classification"
   ]
  },
  {
   "cell_type": "markdown",
   "metadata": {
    "deletable": false,
    "editable": false
   },
   "source": [
    "### If you're using Datahub:\n",
    "* Run the cell below **and restart the kernel if needed**"
   ]
  },
  {
   "cell_type": "code",
   "execution_count": 2,
   "metadata": {
    "deletable": false,
    "editable": false
   },
   "outputs": [],
   "source": [
    "# Install dependencies\n",
    "!pip install -r requirements.txt --quiet"
   ]
  },
  {
   "cell_type": "markdown",
   "metadata": {},
   "source": []
  },
  {
   "cell_type": "markdown",
   "metadata": {
    "deletable": false,
    "editable": false
   },
   "source": [
    "### Local setup instructions:\n",
    "You'll need to perform some extra setup.\n",
    "#### First-time setup\n",
    "1. Install `uv` following the instructions here: https://docs.astral.sh/uv/getting-started/installation/. \n",
    "2. Create a virtual environment (venv) using `uv venv --python 3.11`. \n",
    "3. Activate the environment: \n",
    "    - If on macOS/Linux: `source .venv/bin/activate`\n",
    "    - If on Windows: `.venv\\Scripts\\activate`\n",
    "4. Install jupyter: `uv pip install jupyter`.\n",
    "5. If you ever want to switch to a different environment, simply run the command `deactivate`. \n",
    "\n",
    "#### Every time you want to work\n",
    "* `cd` to the directory which contains this notebook `cd /path/to/notebook-dir/`. \n",
    "* Make sure you've activated the venv: `source .venv/bin/activate` or `.venv\\Scripts\\activate` if on Windows.\n",
    "* Launch jupyter: `jupyter notebook` or `jupyter lab`. You can also use directly VSCode's built in ipynb UI, which is quite nice and featureful (in which case you won't even need to activate the venv, you'll be prompted to select the kernel for the notebook, and then pick the venv you created).\n",
    "* Run the cell below **and restart the kernel if needed**"
   ]
  },
  {
   "cell_type": "code",
   "execution_count": 3,
   "metadata": {
    "deletable": false,
    "editable": false
   },
   "outputs": [],
   "source": [
    "# Install dependencies\n",
    "!uv pip install -r requirements.txt --quiet"
   ]
  },
  {
   "cell_type": "code",
   "execution_count": 4,
   "metadata": {
    "deletable": false,
    "editable": false
   },
   "outputs": [],
   "source": [
    "import otter\n",
    "assert (\n",
    "    otter.__version__ >= \"5.5.0\"\n",
    "), \"Please reinstall the requirements and restart your kernel.\"\n",
    "import networkx as nx\n",
    "import numpy as np\n",
    "import tqdm\n",
    "import pickle\n",
    "grader = otter.Notebook(\"dfs-edge-classification.ipynb\")\n",
    "\n",
    "rng_seed = 0"
   ]
  },
  {
   "cell_type": "code",
   "execution_count": 5,
   "metadata": {
    "deletable": false,
    "editable": false
   },
   "outputs": [],
   "source": [
    "# Load test cases\n",
    "file_path = \"generated_testcases.pkl\"\n",
    "\n",
    "# Load the variables from the pickle file\n",
    "with open(file_path, \"rb\") as file:\n",
    "    loaded_data = pickle.load(file)\n",
    "file.close()\n",
    "inputs, outputs = loaded_data"
   ]
  },
  {
   "cell_type": "markdown",
   "metadata": {
    "deletable": false,
    "editable": false
   },
   "source": [
    "#### Representing graphs in code\n",
    "\n",
    "There are multiple ways to represent graphs in code. In class we covered [adjacency matrices](https://people.eecs.berkeley.edu/~vazirani/algorithms/chap3.pdf#page=2) and [adjacency lists](https://people.eecs.berkeley.edu/~vazirani/algorithms/chap3.pdf#page=3). There is also the edge list representation, in which you store the edges in a single 1 dimensional list. In general for CS170 and in most cases, we choose to use the adjacency list representation since it allows us to efficiently search over a node's neighbors.\n",
    "\n",
    "In many programming problems, verticies are typically labelled $0$ through $n-1$ for convenience (recall that arrays and lists in most languages begin at index 0). This allows us to represent an adjacency list using a list of lists that store ints. Given an edge list, the following code will create an adjacency list for an **unweighted directed graph**."
   ]
  },
  {
   "cell_type": "code",
   "execution_count": 6,
   "metadata": {
    "deletable": false,
    "editable": false
   },
   "outputs": [],
   "source": [
    "def generate_adj_list(n, edge_list):\n",
    "    \"\"\" Generates an adjacency list given a set of edges.\n",
    "    \n",
    "    Args:\n",
    "        n (int): Number of nodes in the graph. The nodes are labelled with integers 0 through n-1\n",
    "        edge_list (list[tuple[int, int]]): Edge list where each tuple (u,v) represents the directed edge (u,v) in the graph.\n",
    "        \n",
    "    Returns:\n",
    "        list[list[int]]: The adjacency list, where adj_list[u] = sorted([v for v in neighbors(u)])\n",
    "    \"\"\"\n",
    "    adj_list = [[] for _ in range(n)] \n",
    "    for u, v in edge_list:\n",
    "        adj_list[u].append(v)\n",
    "\n",
    "    for u in range(n):\n",
    "        adj_list[u] = sorted(adj_list[u])\n",
    "\n",
    "    return adj_list\n",
    "\n",
    "def draw_graph(adj_list):\n",
    "    \"\"\" Utility method for visualizing graphs.\n",
    "\n",
    "    Args:\n",
    "        adj_list (list[list[int]]): Adjacency list of the graph given by generate_adj_list.\n",
    "\n",
    "    Returns:\n",
    "        None\n",
    "    \"\"\"\n",
    "    G = nx.DiGraph()\n",
    "    for u in range(len(adj_list)):\n",
    "        for v in adj_list[u]:\n",
    "            G.add_edge(u, v)\n",
    "    nx.draw(G, with_labels=True)"
   ]
  },
  {
   "cell_type": "markdown",
   "metadata": {
    "deletable": false,
    "editable": false
   },
   "source": [
    "## Q1: Reconstructing the DFS Path\n",
    "\n",
    "In class we showed how to use DFS to check if there exists a path between two nodes, topologically sort nodes, and find SCCs. In those algorithms, pre and post numbers were used.\n",
    "\n",
    "Here you'll implement a variation of DFS to print out the path between two nodes. In many problems, we want to be able to find the actual path between two nodes, not just determine if it exists. \n",
    "\n",
    "> ### **Task 1:** Compute a path from $s$ to $t$ using DFS and return the path as a list of nodes on that path. \n",
    "\n",
    "For example, the path ${s \\to a \\to b \\to c \\to t}$ corresponds to the list `[s, a, b, c, t]`. If no path exists, return the empty list `[]`.\n",
    "\n",
    "You do not need to implement calculating pre and post numbers for this exercise.\n",
    "\n",
    "*Hint:*\n",
    "1. If you want to start with the recursive DFS implementation from DPV, you can use [mutable types or the `nonlocal` keyword](https://cs61a.org/study-guide/mutation/#local-state) to preserve state across recursive calls.\n",
    "2. It may be helpful to maintain an extra data structure which tracks the previous node we visited each time we visit a new node. "
   ]
  },
  {
   "cell_type": "code",
   "execution_count": 7,
   "metadata": {
    "tags": [
     "otter_answer_cell"
    ]
   },
   "outputs": [],
   "source": [
    "def dfs_path(adj_list, s, t):\n",
    "    \"\"\" Finds a path from s to t using DFS or returns an empty list if no path exists.\n",
    "    \n",
    "    Args:\n",
    "        adj_list (list[list[int]]): An adjacency list.\n",
    "        s (int): An int representing the starting node.\n",
    "        t (int): An int representing the destination node.\n",
    "\n",
    "    Returns:\n",
    "        list[int]: A list of nodes starting with s and ending with t representing an s to t path if it exists. \n",
    "                   Returns an empty list otherwise.\n",
    "    \"\"\"\n",
    "    # This can be mutated to track state for explore, but you can delete them if you prefer a different approach.\n",
    "    visited = set()\n",
    "    prev = {}\n",
    "    \n",
    "\n",
    "    def explore(curr):\n",
    "        \"\"\"\n",
    "        Implements the explore subroutine from DPV, which is used in DFS. feel free to delete this \n",
    "        function and use an alternative implementation if you prefer.\n",
    "\n",
    "        Args:\n",
    "            curr (int): The node currently being traversed.\n",
    "        \n",
    "        Returns:\n",
    "            None\n",
    "        \"\"\"\n",
    "        visited.add(curr)\n",
    "        if curr == t:\n",
    "            return True\n",
    "        \n",
    "        for n in adj_list[curr]:\n",
    "            if n not in visited:\n",
    "                prev[n] = curr\n",
    "                if explore(n):\n",
    "                    return True\n",
    "\n",
    "        return False\n",
    "    \n",
    "    if not explore(s):\n",
    "        return []\n",
    "\n",
    "    path = [t]\n",
    "    while path[-1] != s:\n",
    "        parent = prev.get(path[-1])\n",
    "        if parent is None:\n",
    "            return []\n",
    "        path.append(parent)\n",
    "    path.reverse()\n",
    "    return path\n",
    "\n",
    "    "
   ]
  },
  {
   "cell_type": "markdown",
   "metadata": {
    "deletable": false,
    "editable": false
   },
   "source": [
    "### Debugging\n",
    "\n",
    "You can create sample tests in the following cells to help debug your solution. We provide a few small tests as an example, but they might not be comprehensive.\n",
    "\n",
    "To add a new graph to the test, append a new edge list to `edge_lists` as shown in the next cell.  \n",
    "__Remember that these edges are directed, so do not add both directions of an edge to the edge list.__"
   ]
  },
  {
   "cell_type": "code",
   "execution_count": 8,
   "metadata": {
    "deletable": false,
    "editable": false
   },
   "outputs": [],
   "source": [
    "edge_lists = []\n",
    "edge_lists.append([(0,1), (0,2), (1,2), (2,3), (3,4), (3,5), (4,5)])   # edge list of first graph\n",
    "edge_lists.append([(0,1), (0,2), (1,2), (3,4), (3,5), (4,5)])          # edge list of second graph\n",
    "# add any additional tests here"
   ]
  },
  {
   "cell_type": "markdown",
   "metadata": {
    "deletable": false,
    "editable": false
   },
   "source": [
    "For each test case you also need to add a starting node $s$, a destination node $t$, and $n$ the number of nodes in the graph, add them to the following lists. "
   ]
  },
  {
   "cell_type": "code",
   "execution_count": 9,
   "metadata": {
    "deletable": false,
    "editable": false
   },
   "outputs": [],
   "source": [
    "s_list = []\n",
    "s_list.append(0)  # s for first graph \n",
    "s_list.append(1)  # s for second graph \n",
    "# add any additional tests here\n",
    "\n",
    "t_list = []\n",
    "t_list.append(3)  # t for first graph\n",
    "t_list.append(4)  # t for second graph\n",
    "# add any additional tests here\n",
    "\n",
    "n_list = []\n",
    "n_list.append(6)  # n = 6 for first graph\n",
    "n_list.append(6)  # n = 6 for second graph\n",
    "# add any additional tests here"
   ]
  },
  {
   "cell_type": "markdown",
   "metadata": {
    "deletable": false,
    "editable": false
   },
   "source": [
    "The following is a simplified version of the autograder, you may want to add more print statements or other debugging statements to check your function."
   ]
  },
  {
   "cell_type": "code",
   "execution_count": 10,
   "metadata": {
    "deletable": false,
    "editable": false
   },
   "outputs": [
    {
     "name": "stdout",
     "output_type": "stream",
     "text": [
      "Testing graph: 1\n"
     ]
    },
    {
     "data": {
      "image/png": "[encoded data removed]",
      "text/plain": [
       "<Figure size 640x480 with 1 Axes>"
      ]
     },
     "metadata": {},
     "output_type": "display_data"
    },
    {
     "name": "stdout",
     "output_type": "stream",
     "text": [
      "Testing graph: 2\n"
     ]
    },
    {
     "data": {
      "image/png": "[encoded data removed]",
      "text/plain": [
       "<Figure size 640x480 with 1 Axes>"
      ]
     },
     "metadata": {},
     "output_type": "display_data"
    },
    {
     "name": "stdout",
     "output_type": "stream",
     "text": [
      "Success\n"
     ]
    }
   ],
   "source": [
    "import matplotlib.pyplot as plt\n",
    "index = 1\n",
    "for s, t, n, edge_list in zip(s_list, t_list, n_list, edge_lists):\n",
    "    print(\"Testing graph:\", index)\n",
    "    index += 1\n",
    "    \n",
    "    adj_list_graph = generate_adj_list(n, edge_list) # function defined earlier\n",
    "    # draw_graph(adj_list_graph)\n",
    "    \n",
    "    path = dfs_path(adj_list_graph, s, t) \n",
    "    \n",
    "    nx_graph = nx.DiGraph(edge_list)\n",
    "    \n",
    "    # uncomment the following to plot each graph\n",
    "    \n",
    "    nx.draw(nx_graph, with_labels=True)\n",
    "    plt.title(f\"Graph with {n} vertices and start node {s} and destination {t}\")\n",
    "    plt.show()\n",
    "    \n",
    "    if not nx.has_path(nx_graph,s,t):\n",
    "        assert len(path) == 0, f\"your dfs_path found an s-t path when there isn't one.\"\n",
    "    else:\n",
    "        # checks that the path returned is a real path in the graph and that it starts and ends \n",
    "        # at the right vertices\n",
    "        assert nx.is_simple_path(nx_graph, path), f\"your dfs_path did not return a valid simple path\"\n",
    "        assert path[0] == s, f\"your dfs_path returned a valid simple path, but it does not start at node s\"\n",
    "        assert path[-1] == t, f\"your dfs_path returned a valid simple path, but it does not end at node t\"\n",
    "\n",
    "print(\"Success\")"
   ]
  },
  {
   "cell_type": "code",
   "execution_count": 11,
   "metadata": {
    "deletable": false,
    "editable": false
   },
   "outputs": [
    {
     "name": "stderr",
     "output_type": "stream",
     "text": [
      "100%|██████████| 50/50 [00:01<00:00, 31.67it/s] \n"
     ]
    },
    {
     "data": {
      "text/html": [
       "<p><strong><pre style='display: inline;'>q1</pre></strong> passed! 🎉</p>"
      ],
      "text/plain": [
       "q1 results: All test cases passed!"
      ]
     },
     "execution_count": 11,
     "metadata": {},
     "output_type": "execute_result"
    }
   ],
   "source": [
    "grader.check(\"q1\")"
   ]
  },
  {
   "cell_type": "markdown",
   "metadata": {
    "deletable": false,
    "editable": false
   },
   "source": [
    "## Q2: Pre and Post Numbers\n",
    "In order to topologically sort or find strongly connected components, we need to be able to calculate pre and post numbers for each node. \n",
    "\n",
    "In this part, you will rework your implementation of DFS to allow it to generate pre and post order numbers for each node. It might be a good idea to copy/paste your solution from the previous part and modify it here. \n",
    "\n",
    "> ### **Task 2:** Implement a function that computes DFS pre and post numbers for each node in the graph.\n",
    "\n",
    "To pass the autograder, your smallest preorder number should be 1. Your largest postorder number should be $ 2 \\times \\text{(number of vertices)}$. Return two lists of tuples, a `pre` list containing tuples `(node, pre-number)`, and a `post` list containing tuples `(node, post-number)`. \n",
    "\n",
    "Both lists should be ordered according to the pre/post number in the tuple. **You should not use any sorting functions to accomplish this!**\n",
    "\n",
    "> ### **Reflect:** Why might returning pre/post numbers in this way be helpful for finding strongly connected components?\n",
    "\n",
    "Feel free to delete the starter code and implement your own solution. \n",
    "> **Note**: The recursive implementation is simpler than the iterative solution, so we suggest that you only come back to try the iterative solution once you've completed the rest of the assignment!\n",
    "\n",
    "For this part, you can no longer assume that the entire graph is guaranteed to be reachable from some certain start node. How will this change your implementation?\n",
    "\n",
    "Finally, break ties by choosing the node with the smallest number value. The autograder may fail implementations which are otherwise correct but break ties in a different way."
   ]
  },
  {
   "cell_type": "code",
   "execution_count": 16,
   "metadata": {
    "tags": [
     "otter_answer_cell"
    ]
   },
   "outputs": [],
   "source": [
    "def get_pre_post(adj_list):\n",
    "    \"\"\" Computes pre and post numbers for each node in the graph.\n",
    "    \n",
    "    Args:\n",
    "        adj_list (list[list[int]]): The adjacency list that represents our input graph.\n",
    "        \n",
    "    Returns:\n",
    "        list[tuple[int, int]], list[tuple[int, int]]: The pre and post order values respectively.\n",
    "            Each tuple should have a vertex as its first entry, and the pre/post order value as its second entry.\n",
    "    \"\"\"\n",
    "    time = [1] # This is to make sure the time counter is global mutable state. You can use nonlocal if you'd prefer!\n",
    "    pre = []\n",
    "    post = []\n",
    "    visited = set()\n",
    "    \n",
    "\n",
    "    # YOUR CODE HERE\n",
    "    def explore(curr):\n",
    "        \"\"\"\n",
    "        Implements the explore subroutine from DPV, which is used in DFS. feel free to delete this \n",
    "        function and use an alternative implementation if you prefer.\n",
    "\n",
    "        Args:\n",
    "            curr (int): The node currently being traversed.\n",
    "        \n",
    "        Returns:\n",
    "            None\n",
    "        \"\"\"\n",
    "        visited.add(curr)\n",
    "        pre.append((curr, time[0]))\n",
    "        time[0] += 1\n",
    "        for n in adj_list[curr]:\n",
    "            if n not in visited:\n",
    "                explore(n)\n",
    "        post.append((curr, time[0]))\n",
    "        time[0] += 1\n",
    "    \n",
    "    \n",
    "    n = len(adj_list)\n",
    "    for node in range(n):\n",
    "        if node not in visited:\n",
    "            explore(node)\n",
    "\n",
    "    return pre, post"
   ]
  },
  {
   "cell_type": "code",
   "execution_count": 17,
   "metadata": {
    "deletable": false,
    "editable": false
   },
   "outputs": [
    {
     "name": "stderr",
     "output_type": "stream",
     "text": [
      "100%|██████████| 110/110 [00:00<00:00, 1225.60it/s]\n"
     ]
    },
    {
     "data": {
      "text/html": [
       "<p><strong><pre style='display: inline;'>q2</pre></strong> passed! 🎉</p>"
      ],
      "text/plain": [
       "q2 results: All test cases passed!"
      ]
     },
     "execution_count": 17,
     "metadata": {},
     "output_type": "execute_result"
    }
   ],
   "source": [
    "grader.check(\"q2\")"
   ]
  },
  {
   "cell_type": "markdown",
   "metadata": {
    "deletable": false,
    "editable": false
   },
   "source": [
    "## Q3: Identifying Tree, Forward, Back, Cross Edges\n",
    "\n",
    "As we perform DFS traversals and create DFS trees and DFS forests within our graph, we would like to classify our edges according to how they appear in the resulting DFS forest. These classifications can provide us with insights about our graph. For example, the presence of a back edge $(u, v)$ tells us that we have a cycle within this graph that includes all the tree edges on the path from v to u and the back edge $(u, v)$.\n",
    "> ### **Task 3:** Given the adjacency list of a graph, add each edge present in the edge set to the correct classification according the DFS traversal you implemented in part 1.\n",
    "\n",
    "**Don't modify the initialization of the edges_lookup dictionary.**"
   ]
  },
  {
   "cell_type": "code",
   "execution_count": 20,
   "metadata": {
    "tags": [
     "otter_answer_cell"
    ]
   },
   "outputs": [],
   "source": [
    "def categorize_edges(adj_list):\n",
    "    \"\"\" Categorizes all edges of the graph.\n",
    "    \n",
    "    Args:\n",
    "        adj_list (list[list[int]]): The adjacency list that represents our input graph.\n",
    "        \n",
    "    Returns:\n",
    "        A dictionary with the following schema:\n",
    "        {\n",
    "            'tree': set[tuple[int, int]],\n",
    "            'forward': set[tuple[int, int]],\n",
    "            'cross': sset[tuple[int, int]],\n",
    "            'back': set[tuple[int, int]],\n",
    "        }, \n",
    "        where each set contains the edges that belong to the corresponding edge type specified by the key (e.g. 'tree')\n",
    "    \"\"\"\n",
    "    edges_lookup = {\n",
    "        'tree': set(),\n",
    "        'forward': set(),\n",
    "        'cross': set(),\n",
    "        'back': set()\n",
    "    }\n",
    "    visited = set()\n",
    "    pre = {}\n",
    "    post = {}\n",
    "    time = [1]\n",
    "\n",
    "    def explore(u):\n",
    "        visited.add(u)\n",
    "        pre[u] = time[0]\n",
    "        time[0] += 1\n",
    "        for v in adj_list[u]:\n",
    "            if v not in visited:\n",
    "                edges_lookup['tree'].add((u, v))\n",
    "                explore(v)\n",
    "        post[u] = time[0]\n",
    "        time[0] += 1\n",
    "\n",
    "    for node in range(len(adj_list)):\n",
    "        if node not in visited:\n",
    "            explore(node)\n",
    "            \n",
    "    for u in range(len(adj_list)):\n",
    "        for v in adj_list[u]:\n",
    "            if (u, v) in edges_lookup['tree']: # tree edge\n",
    "                continue\n",
    "            if pre[v] < pre[u] and post[u] < post[v]:\n",
    "                edges_lookup['back'].add((u, v)) # back edge\n",
    "            elif pre[u] < pre[v] and post[v] < post[u]:\n",
    "                edges_lookup['forward'].add((u, v)) # forward edge\n",
    "            else:\n",
    "                edges_lookup['cross'].add((u, v)) # cross edge\n",
    "\n",
    "    return edges_lookup"
   ]
  },
  {
   "cell_type": "code",
   "execution_count": 21,
   "metadata": {
    "deletable": false,
    "editable": false
   },
   "outputs": [
    {
     "name": "stderr",
     "output_type": "stream",
     "text": [
      "100%|██████████| 100/100 [00:00<00:00, 1287.22it/s]\n"
     ]
    },
    {
     "data": {
      "text/html": [
       "<p><strong><pre style='display: inline;'>q3</pre></strong> passed! 🙌</p>"
      ],
      "text/plain": [
       "q3 results: All test cases passed!"
      ]
     },
     "execution_count": 21,
     "metadata": {},
     "output_type": "execute_result"
    }
   ],
   "source": [
    "grader.check(\"q3\")"
   ]
  },
  {
   "cell_type": "markdown",
   "metadata": {
    "deletable": false,
    "editable": false
   },
   "source": [
    "## Submission\n",
    "\n",
    "Make sure you have run all cells in your notebook in order before running the cell below, so that all images/graphs appear in the output. The cell below will generate a zip file for you to submit."
   ]
  },
  {
   "cell_type": "code",
   "execution_count": null,
   "metadata": {
    "deletable": false,
    "editable": false
   },
   "outputs": [],
   "source": [
    "grader.export(pdf=False, force_save=True, run_tests=True)"
   ]
  },
  {
   "cell_type": "markdown",
   "metadata": {},
   "source": [
    " "
   ]
  }
 ],
 "metadata": {
  "kernelspec": {
   "display_name": "base",
   "language": "python",
   "name": "python3"
  },
  "language_info": {
   "codemirror_mode": {
    "name": "ipython",
    "version": 3
   },
   "file_extension": ".py",
   "mimetype": "text/x-python",
   "name": "python",
   "nbconvert_exporter": "python",
   "pygments_lexer": "ipython3",
   "version": "3.11.4"
  },
  "otter": {
   "OK_FORMAT": false,
   "assignment_name": "dfs-edge-classification",
   "tests": {
    "q1": "from otter.test_files import test_case\n\nOK_FORMAT = False\n\nname = \"q1\"\npoints = 2\n\n@test_case(points=None, hidden=False)\ndef test_q1_1(dfs_path, nx, tqdm, np, generate_adj_list, rng_seed):\n    rng = np.random.default_rng(rng_seed)\n    import signal\n\n    def timeout_handler(num, stack):\n        raise Exception('Your solution timed out.')\n    if hasattr(signal, 'SIGALRM') and hasattr(signal, 'alarm'):\n        signal.signal(signal.SIGALRM, timeout_handler)\n        signal.alarm(30)\n    try:\n        for n in tqdm.tqdm(range(20, 1001, 20)):\n            p = np.log(n) / n\n            random_graph = nx.gnp_random_graph(n, p, seed=rng_seed + n, directed=True)\n            adj_list_graph = generate_adj_list(n, random_graph.edges)\n            s = rng.integers(n)\n            t = rng.integers(n)\n            nxall = nx\n\n            def error(*args, **kwargs):\n                nx = nxall\n                raise Exception('You may not call any graph libraries, modules, or functions.')\n            nx = error\n            try:\n                path = dfs_path(adj_list_graph, s, t)\n            finally:\n                nx = nxall\n            if not nx.has_path(random_graph, s, t):\n                assert len(path) == 0, f\"your dfs_path found an s-t path when there isn't one.\"\n            else:\n                assert nx.is_simple_path(random_graph, path), f'your dfs_path did not return a valid simple path'\n                assert path[0] == s, f'your dfs_path returned a valid simple path, but it does not start at node s'\n                assert path[-1] == t, f'your dfs_path returned a valid simple path, but it does not end at node t'\n    finally:\n        if hasattr(signal, 'SIGALRM') and hasattr(signal, 'alarm'):\n            signal.alarm(0)\n\n",
    "q2": "from otter.test_files import test_case\n\nOK_FORMAT = False\n\nname = \"q2\"\npoints = 2\n\n@test_case(points=None, hidden=False)\ndef test_q1_2(get_pre_post, inputs, outputs, tqdm, nx, np, generate_adj_list, rng_seed):\n    import signal\n\n    def timeout_handler(num, stack):\n        raise Exception('Your solution timed out.')\n    if hasattr(signal, 'SIGALRM') and hasattr(signal, 'alarm'):\n        signal.signal(signal.SIGALRM, timeout_handler)\n        signal.alarm(30)\n    try:\n        for i in tqdm.tqdm(range(len(inputs['q2']))):\n            input_adjlist = inputs['q2'][i]\n            n = len(input_adjlist)\n            nxall = nx\n\n            def error(*args, **kwargs):\n                nx = nxall\n                raise Exception('You may not call any graph libraries, modules, or functions.')\n            nx = error\n            try:\n                preStudent, postStudent = get_pre_post(input_adjlist)\n            finally:\n                nx = nxall\n            assert len(preStudent) == len(postStudent) == n, 'pre and post arrays should both have length n'\n            for j in range(n - 1):\n                assert preStudent[j][1] < preStudent[j + 1][1], 'pre order values should be in increasing order'\n                assert postStudent[j][1] < postStudent[j + 1][1], 'post order values should be in increasing order'\n            expectedPre, expectedPost = outputs['q2'][i]\n            assert len(expectedPre) == len(preStudent) and len(expectedPost) == len(postStudent), 'make sure to set pre and post for each node'\n            for j in range(len(expectedPre)):\n                assert len(preStudent[j]) == 2, 'Make sure each value is (node, pre/post order)'\n                assert preStudent[j] == expectedPre[j], f'wrong preorder value for node {preStudent[j][0]}'\n            for j in range(len(expectedPost)):\n                assert len(postStudent[j]) == 2, 'Make sure each value is (node, pre/post order)'\n                assert postStudent[j] == expectedPost[j], f'wrong preorder value for node {postStudent[j][0]}'\n    finally:\n        if hasattr(signal, 'SIGALRM') and hasattr(signal, 'alarm'):\n            signal.alarm(0)\n\n",
    "q3": "from otter.test_files import test_case\n\nOK_FORMAT = False\n\nname = \"q3\"\npoints = 2\n\n@test_case(points=None, hidden=False)\ndef test_q3(categorize_edges, inputs, outputs, tqdm):\n    for i in tqdm.tqdm(range(0, 100)):\n        expected_edge_dict = outputs['q3'][i]\n        edge_dict = categorize_edges(inputs['q3'][i])\n        for edge_type in expected_edge_dict:\n            assert expected_edge_dict[edge_type] == edge_dict[edge_type], f'returned wrong set of {edge_type} edges'\n\n"
   }
  }
 },
 "nbformat": 4,
 "nbformat_minor": 4
}
